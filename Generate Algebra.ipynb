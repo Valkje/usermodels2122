{
 "cells": [
  {
   "cell_type": "code",
   "execution_count": 7,
   "id": "0a3373e4",
   "metadata": {},
   "outputs": [],
   "source": [
    "import random\n",
    "import time"
   ]
  },
  {
   "cell_type": "code",
   "execution_count": 8,
   "id": "9722374c",
   "metadata": {},
   "outputs": [],
   "source": [
    "firstArray = []\n",
    "secondArray = []"
   ]
  },
  {
   "cell_type": "code",
   "execution_count": 20,
   "id": "541e3e2d",
   "metadata": {},
   "outputs": [
    {
     "name": "stdout",
     "output_type": "stream",
     "text": [
      "\"16 times 20\", \"15 times 10\", \"10 times 11\", \"18 times 16\", \"16 times 14\", \"16 times 19\", \"18 times 20\", \"20 times 11\", \"20 times 21\", \"12 times 16\", \"13 times 20\", \"20 times 15\", \"16 times 17\", \"15 times 18\", \"14 times 17\", \"13 times 21\", \"21 times 11\", \"21 times 14\", \"18 times 14\", \"13 times 19\",  -----  \"13 times 16\", \"11 times 16\", \"17 times 20\", \"12 times 21\", \"10 times 16\", \"11 times 12\", \"21 times 10\", \"18 times 21\", \"19 times 18\", \"17 times 17\", \"11 times 18\", \"19 times 19\", \"13 times 11\", \"17 times 19\", \"14 times 12\", \"18 times 13\", \"10 times 18\", \"16 times 16\", \"14 times 14\", \"10 times 12\", "
     ]
    }
   ],
   "source": [
    "while len(firstArray) < 40:\n",
    "    timeMili = time.time() * 1000\n",
    "    random.seed(timeMili)\n",
    "    firstRand = random.randint(10,21)\n",
    "    secondRand = random.randint(10,21)\n",
    "    \n",
    "    check = 0\n",
    "    \n",
    "    for x in range(len(firstArray)):\n",
    "        if (firstArray[x] == firstRand and secondArray[x] == secondRand) or (firstArray[x] == secondRand and secondArray[x] == firstRand):\n",
    "            check = 1\n",
    "            break\n",
    "        \n",
    "    if check == 0:\n",
    "        firstArray.append(firstRand)\n",
    "        secondArray.append(secondRand)\n",
    "\n",
    "for x in range(len(firstArray)):\n",
    "    print(\"\\\"\"+str(firstArray[x])+\" times \"+str(secondArray[x])+\"\\\",\", end = \" \")\n",
    "    \n",
    "    if x == 19:\n",
    "        print(\" ----- \", end = \" \")"
   ]
  },
  {
   "cell_type": "code",
   "execution_count": null,
   "id": "a687a3d3",
   "metadata": {},
   "outputs": [],
   "source": []
  }
 ],
 "metadata": {
  "kernelspec": {
   "display_name": "Python 3",
   "language": "python",
   "name": "python3"
  },
  "language_info": {
   "codemirror_mode": {
    "name": "ipython",
    "version": 3
   },
   "file_extension": ".py",
   "mimetype": "text/x-python",
   "name": "python",
   "nbconvert_exporter": "python",
   "pygments_lexer": "ipython3",
   "version": "3.7.0"
  }
 },
 "nbformat": 4,
 "nbformat_minor": 5
}
